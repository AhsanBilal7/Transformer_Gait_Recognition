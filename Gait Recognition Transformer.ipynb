{
 "cells": [
  {
   "cell_type": "code",
   "execution_count": 1,
   "metadata": {},
   "outputs": [],
   "source": [
    "import os\n",
    "import pandas as pd\n",
    "from sklearn.model_selection import train_test_split\n",
    "from tensorflow.keras.models import Sequential\n",
    "from tensorflow.keras.layers import LSTM, Dense , Dropout\n",
    "import tensorflow as tf\n",
    "from tensorflow.keras.models import Model\n",
    "from tensorflow.keras.layers import Input, Dense, Dropout, LayerNormalization, MultiHeadAttention\n",
    "from sklearn.model_selection import train_test_split\n"
   ]
  },
  {
   "cell_type": "code",
   "execution_count": 2,
   "metadata": {},
   "outputs": [],
   "source": [
    "SEQUENCE_LENGTH = 40\n",
    "FEATURES = 51\n",
    "batch_size = 32"
   ]
  },
  {
   "cell_type": "code",
   "execution_count": 3,
   "metadata": {},
   "outputs": [],
   "source": [
    "import tensorflow as tf\n",
    "from tensorflow.keras import layers, models\n",
    "from tensorflow.keras.layers import Dense, Flatten, Conv2D, MaxPooling2D, Dropout,InputLayer, BatchNormalization, GlobalAveragePooling2D \n",
    "from keras import models, layers"
   ]
  },
  {
   "cell_type": "markdown",
   "metadata": {},
   "source": [
    "## Dataset Pipeline"
   ]
  },
  {
   "cell_type": "code",
   "execution_count": 4,
   "metadata": {},
   "outputs": [
    {
     "name": "stdout",
     "output_type": "stream",
     "text": [
      "0 Running for person 0000\n",
      "1 Running for person 0001\n",
      "2 Running for person 0002\n",
      "3 Running for person 0003\n",
      "4 Running for person 0004\n",
      "5 Running for person 0005\n",
      "6 Running for person 0006\n",
      "7 Running for person 0007\n",
      "8 Running for person 0008\n",
      "9 Running for person 0009\n",
      "10 Running for person 0010\n",
      "11 Running for person 0011\n",
      "12 Running for person 0012\n",
      "13 Running for person 0013\n",
      "14 Running for person 0014\n",
      "15 Running for person 0015\n",
      "16 Running for person 0016\n",
      "17 Running for person 0017\n",
      "18 Running for person 0018\n",
      "19 Running for person 0019\n",
      "20 Running for person 0020\n"
     ]
    }
   ],
   "source": [
    "import os\n",
    "import pandas as pd\n",
    "import numpy as np\n",
    "import tensorflow as tf\n",
    "#------------------- Here the Overlapping Applies --------------------------#\n",
    "def read_data_from_folder(folder_path, sequence_length=20):\n",
    "    class_labels = os.listdir(folder_path)\n",
    "    sequences = []\n",
    "    labels = []\n",
    "    for label_num_temp, person_folder in enumerate(class_labels):\n",
    "        print(f\"{label_num_temp} Running for person {person_folder}\")\n",
    "        person_folder_path = os.path.join(folder_path, person_folder)\n",
    "        if not os.path.isdir(person_folder_path):\n",
    "            continue\n",
    "\n",
    "        for csv_file in os.listdir(person_folder_path):\n",
    "            if not csv_file.endswith('.csv'):\n",
    "                continue\n",
    "\n",
    "            csv_file_path = os.path.join(person_folder_path, csv_file)\n",
    "            df = pd.read_csv(csv_file_path)\n",
    "            num_sequences = len(df) - sequence_length + 1\n",
    "            # print(f\"num_sequences: {num_sequences}, sequence_length: {sequence_length}, len(df): {len(df)}\")\n",
    "            for i in range(num_sequences):\n",
    "                sequence = df.iloc[i:i + sequence_length].values\n",
    "                #First dimension should be features and second should be time\n",
    "                # print(sequence.shape)\n",
    "                sequences.append(sequence)\n",
    "                labels.append(label_num_temp)  # Assuming the person folder name is the label\n",
    "        \n",
    "\n",
    "    return sequences, labels, class_labels\n",
    "\n",
    "train_folder_path = 'D:\\\\FYP\\\\Gait3D\\\\csv_ten'\n",
    "\n",
    "# Read data from the train folder\n",
    "sequences, labels, class_labels = read_data_from_folder(train_folder_path, sequence_length=SEQUENCE_LENGTH)\n"
   ]
  },
  {
   "cell_type": "code",
   "execution_count": 5,
   "metadata": {},
   "outputs": [
    {
     "name": "stdout",
     "output_type": "stream",
     "text": [
      "23314\n",
      "23314\n",
      "23314\n"
     ]
    }
   ],
   "source": [
    "print(len(sequences))\n",
    "print(len(labels))\n",
    "print(len(sequences))\n",
    "# We have taken the 2000 sequences from the total of 2291652 sequences just to see if the model is training or not.\n"
   ]
  },
  {
   "cell_type": "code",
   "execution_count": 6,
   "metadata": {},
   "outputs": [],
   "source": [
    "\n",
    "new_sequences = sequences[:2000]\n",
    "new_labels = labels[:2000]"
   ]
  },
  {
   "cell_type": "code",
   "execution_count": null,
   "metadata": {},
   "outputs": [],
   "source": []
  },
  {
   "cell_type": "code",
   "execution_count": 6,
   "metadata": {},
   "outputs": [
    {
     "name": "stdout",
     "output_type": "stream",
     "text": [
      "23314\n"
     ]
    }
   ],
   "source": [
    "print(len(sequences))\n",
    "\n"
   ]
  },
  {
   "cell_type": "code",
   "execution_count": 7,
   "metadata": {},
   "outputs": [
    {
     "name": "stdout",
     "output_type": "stream",
     "text": [
      "(23314,)\n",
      "23314\n",
      "(21,)\n",
      "[ 0  1  2  3  4  5  6  7  8  9 10 11 12 13 14 15 16 17 18 19 20]\n",
      "21\n"
     ]
    }
   ],
   "source": [
    "# print(np.array(sequences).shape)\n",
    "print(np.array(labels).shape)\n",
    "print(len(sequences))\n",
    "print((np.unique(labels)).shape)\n",
    "class_vocab = np.unique(labels)\n",
    "print(np.unique(labels))\n",
    "print(len(np.unique(labels)))\n",
    "\n",
    "# print(np.array(sequences).shape)"
   ]
  },
  {
   "cell_type": "code",
   "execution_count": 8,
   "metadata": {},
   "outputs": [
    {
     "name": "stdout",
     "output_type": "stream",
     "text": [
      "{0: 6, 1: 6, 2: 9}\n"
     ]
    }
   ],
   "source": [
    "import numpy as np\n",
    "\n",
    "def count_occurrences(arr):\n",
    "    unique_elements, counts = np.unique(arr, return_counts=True)\n",
    "    occurrences_dict = dict(zip(unique_elements, counts))\n",
    "    return occurrences_dict\n",
    "\n",
    "# Example usage:\n",
    "labels_array = np.array([0, 0, 0, 1, 1, 1, 2, 2, 2, 2, 2, 2, 0, 0, 0, 1, 1, 1, 2, 2, 2])\n",
    "occurrences = count_occurrences(labels_array)\n",
    "print(occurrences)\n"
   ]
  },
  {
   "cell_type": "code",
   "execution_count": 9,
   "metadata": {},
   "outputs": [
    {
     "name": "stdout",
     "output_type": "stream",
     "text": [
      "{0: 516, 1: 11, 2: 155, 3: 3848, 4: 2582, 5: 331, 6: 1359, 7: 425, 8: 135, 9: 114, 10: 2677, 11: 1348, 12: 320, 13: 11, 14: 219, 15: 298, 16: 41, 17: 231, 18: 1186, 19: 1401, 20: 6106}\n"
     ]
    }
   ],
   "source": [
    "# Calculates the number of labels\n",
    "print(count_occurrences(labels))"
   ]
  },
  {
   "cell_type": "code",
   "execution_count": 10,
   "metadata": {},
   "outputs": [],
   "source": [
    "from sklearn.model_selection import train_test_split\n",
    "\n",
    "# Assuming you have 'sequences' and 'labels' as your training data\n",
    "train_sequences, val_sequences, train_labels, val_labels = train_test_split(\n",
    "    sequences, labels, test_size=0.2, random_state=42) "
   ]
  },
  {
   "cell_type": "code",
   "execution_count": 11,
   "metadata": {},
   "outputs": [],
   "source": [
    "def data_generator(sequences, labels, batch_size=32):\n",
    "    num_samples = len(sequences)\n",
    "    indices = np.arange(num_samples)\n",
    "    while True:\n",
    "        np.random.shuffle(indices)\n",
    "        for batch_start in range(0, num_samples, batch_size):\n",
    "            batch_indices = indices[batch_start:batch_start + batch_size]\n",
    "            batch_sequences = [sequences[i] for i in batch_indices]\n",
    "            batch_labels = [labels[i] for i in batch_indices]\n",
    "            yield np.stack(batch_sequences), np.array(batch_labels)\n",
    "\n",
    "\n",
    "def create_dataset_generator(sequences, labels, batch_size=32, shuffle_buffer_size=1000):\n",
    "    generator = data_generator(sequences, labels, batch_size=batch_size)\n",
    "    dataset = tf.data.Dataset.from_generator(\n",
    "        lambda: generator,\n",
    "        output_signature=(\n",
    "            tf.TensorSpec(shape=(None, SEQUENCE_LENGTH, FEATURES), dtype=tf.float64),\n",
    "            tf.TensorSpec(shape=(None,), dtype=tf.int64)\n",
    "        )\n",
    "    )\n",
    "    dataset = dataset.shuffle(buffer_size=shuffle_buffer_size)\n",
    "    dataset = dataset.prefetch(tf.data.AUTOTUNE)  # Enable autotune for performance optimization\n",
    "    return dataset\n"
   ]
  },
  {
   "cell_type": "code",
   "execution_count": 14,
   "metadata": {},
   "outputs": [
    {
     "name": "stdout",
     "output_type": "stream",
     "text": [
      "21\n",
      "['0000', '0001', '0002', '0003', '0004', '0005', '0006', '0007', '0008', '0009', '0010', '0011', '0012', '0013', '0014', '0015', '0016', '0017', '0018', '0019', '0020']\n"
     ]
    }
   ],
   "source": [
    "print(len(class_labels))\n",
    "num_classes = len(class_labels)\n",
    "print(class_labels)"
   ]
  },
  {
   "cell_type": "code",
   "execution_count": 15,
   "metadata": {},
   "outputs": [],
   "source": [
    "# Train the model using the data generator\n",
    "batch_size = 32  # You can adjust this value based on your system's memory capacity\n",
    "train_dataset = create_dataset_generator(train_sequences, train_labels, batch_size=batch_size)\n",
    "validation_dataset = create_dataset_generator(val_sequences, val_labels, batch_size=batch_size)"
   ]
  },
  {
   "cell_type": "code",
   "execution_count": 19,
   "metadata": {},
   "outputs": [
    {
     "name": "stdout",
     "output_type": "stream",
     "text": [
      "Batch sequences shape: (32, 40, 51)\n",
      "Batch labels shape: (32,)\n",
      "Batch sequences: [[ 85.16699     64.8291       0.9563661  ...  36.631836   290.1709\n",
      "    0.9243889 ]\n",
      " [ 97.84766     67.93359      0.9638251  ...  43.35547    296.80078\n",
      "    0.89950806]\n",
      " [ 96.009766    63.26367      0.9477394  ...  45.970703   288.43945\n",
      "    0.8739742 ]\n",
      " ...\n",
      " [ 67.637695    48.56543      0.92799354 ...  92.45215    282.53027\n",
      "    0.8422748 ]\n",
      " [ 65.78418     44.276367     0.9876606  ...  93.674805   270.8877\n",
      "    0.75337774]\n",
      " [ 68.637695    48.56543      0.9744057  ...  96.99707    271.8955\n",
      "    0.83553207]]\n",
      "Batch labels: 2549\n",
      "For the Validation Dataset\n",
      "Batch sequences shape: (32, 40, 51)\n",
      "Batch labels shape: (32,)\n",
      "Batch sequences: [[ 3.88857400e+01  8.42958900e+01  9.32233040e-01 ...  4.29580040e+01\n",
      "   3.32704100e+02  3.99575530e-01]\n",
      " [ 5.06015660e+01  8.24765700e+01  9.11217000e-01 ...  1.10367190e+02\n",
      "   3.33492200e+02  5.81138250e-01]\n",
      " [ 4.89111330e+01  8.30830100e+01  9.04495100e-01 ...  1.01088870e+02\n",
      "   3.31930660e+02  7.93156700e-01]\n",
      " ...\n",
      " [ 2.64306640e+01  5.25888670e+01  3.03987120e-01 ...  1.13520510e+02\n",
      "   2.63614260e+02  8.26055600e-01]\n",
      " [-2.30566400e+00  1.03432620e+02  1.18197670e-01 ...  1.05506836e+02\n",
      "   2.71889650e+02  7.98151600e-01]\n",
      " [ 8.57929700e+01  4.65586050e+01  2.40187510e-01 ...  8.57929700e+01\n",
      "   2.60660160e+02  8.90910200e-01]]\n",
      "Batch labels: 2362\n",
      "Batch sequences: [[ 3.88857400e+01  8.42958900e+01  9.32233040e-01 ...  4.29580040e+01\n",
      "   3.32704100e+02  3.99575530e-01]\n",
      " [ 5.06015660e+01  8.24765700e+01  9.11217000e-01 ...  1.10367190e+02\n",
      "   3.33492200e+02  5.81138250e-01]\n",
      " [ 4.89111330e+01  8.30830100e+01  9.04495100e-01 ...  1.01088870e+02\n",
      "   3.31930660e+02  7.93156700e-01]\n",
      " ...\n",
      " [ 2.64306640e+01  5.25888670e+01  3.03987120e-01 ...  1.13520510e+02\n",
      "   2.63614260e+02  8.26055600e-01]\n",
      " [-2.30566400e+00  1.03432620e+02  1.18197670e-01 ...  1.05506836e+02\n",
      "   2.71889650e+02  7.98151600e-01]\n",
      " [ 8.57929700e+01  4.65586050e+01  2.40187510e-01 ...  8.57929700e+01\n",
      "   2.60660160e+02  8.90910200e-01]]\n",
      "Batch labels: 2362\n"
     ]
    }
   ],
   "source": [
    "for batch_sequences, batch_labels in train_dataset.take(1):\n",
    "    print(\"Batch sequences shape:\", batch_sequences.shape)\n",
    "    print(\"Batch labels shape:\", batch_labels.shape)\n",
    "    print(\"Batch sequences:\", batch_sequences[0].numpy())\n",
    "    print(\"Batch labels:\", batch_labels[0].numpy())\n",
    "    import numpy as np\n",
    "print(\"For the Validation Dataset\")\n",
    "for batch_sequences, batch_labels in validation_dataset.take(1):\n",
    "    print(\"Batch sequences shape:\", batch_sequences.shape)\n",
    "    print(\"Batch labels shape:\", batch_labels.shape)\n",
    "    print(\"Batch sequences:\", batch_sequences[0].numpy())\n",
    "    print(\"Batch labels:\", batch_labels[0].numpy())\n",
    "    import numpy as np\n",
    "\n",
    "    # Assuming you have batch_sequences and batch_labels already defined\n",
    "\n",
    "    # Save batch_sequences to a CSV file\n",
    "    # np.savetxt('../DUMP/batch_sequences.csv', batch_sequences[0])\n",
    "\n",
    "    # Save batch_labels to a CSV file\n",
    "    # np.savetxt('../DUMP/batch_labels.txt', batch_labels[0])\n",
    "    print(\"Batch sequences:\", batch_sequences[0].numpy())\n",
    "    print(\"Batch labels:\", batch_labels[0].numpy())\n"
   ]
  },
  {
   "cell_type": "code",
   "execution_count": 14,
   "metadata": {},
   "outputs": [],
   "source": [
    "def simple_lstm( sequence_length , features   , num_classes):\n",
    "    model = Sequential()\n",
    "    model.add(LSTM(64, input_shape=(  sequence_length , features ), return_sequences=True)) \n",
    "    model.add(Dropout(0.4)) \n",
    "    model.add(LSTM(64))  # A second LSTM layer without returning sequences\n",
    "    model.add(Dropout(0.2))\n",
    "    model.add(Dense(num_classes, activation='softmax'))  # num_classes = number of unique labels\n",
    "    return model\n"
   ]
  },
  {
   "cell_type": "code",
   "execution_count": 16,
   "metadata": {},
   "outputs": [],
   "source": [
    "def update_simple_lstm( sequence_length , features   , num_classes):\n",
    "    model = Sequential()\n",
    "    model.add(LSTM(128, input_shape=(  sequence_length , features ), return_sequences=True)) \n",
    "    model.add(Dropout(0.4)) \n",
    "    model.add(LSTM(64))  # A second LSTM layer without returning sequences\n",
    "    model.add(Dropout(0.2))\n",
    "    model.add(Dense(16 , activation='relu'))\n",
    "    model.add(Dense(num_classes, activation='softmax'))  # num_classes = number of unique labels\n",
    "    return model\n"
   ]
  },
  {
   "attachments": {
    "image.png": {
     "image/png": "[encoded data removed]"
    }
   },
   "cell_type": "markdown",
   "metadata": {},
   "source": [
    "![image.png](attachment:image.png)"
   ]
  },
  {
   "cell_type": "code",
   "execution_count": 52,
   "metadata": {},
   "outputs": [],
   "source": [
    "from tensorflow.keras.models import Sequential\n",
    "from tensorflow.keras.layers import Conv1D, MaxPooling1D, LSTM, Dropout, Dense\n",
    "\n",
    "def combined_conv_lstm(sequence_length , features, num_classes):\n",
    "    model = Sequential()\n",
    "\n",
    "    # Convolutional layers for feature extraction\n",
    "    model.add(Conv1D(32, kernel_size=3, activation='relu', input_shape=(sequence_length , features)))\n",
    "    model.add(MaxPooling1D(pool_size=2))\n",
    "    model.add(Dropout(0.2))\n",
    "\n",
    "    model.add(Conv1D(64, kernel_size=3, activation='relu'))\n",
    "    model.add(MaxPooling1D(pool_size=2))\n",
    "    model.add(Dropout(0.2))\n",
    "\n",
    "    # LSTM layers for sequence modeling\n",
    "    model.add(LSTM(64, return_sequences=True))\n",
    "    model.add(Dropout(0.4))\n",
    "    model.add(LSTM(64))\n",
    "    model.add(Dropout(0.2))\n",
    "\n",
    "    # Output layer\n",
    "    model.add(Dense(num_classes, activation='softmax'))  # num_classes = number of unique labels\n",
    "\n",
    "    return model\n"
   ]
  },
  {
   "cell_type": "code",
   "execution_count": 105,
   "metadata": {},
   "outputs": [
    {
     "name": "stdout",
     "output_type": "stream",
     "text": [
      "(1, 20, 51)\n",
      "(1, 20, 51)\n"
     ]
    }
   ],
   "source": [
    "import tensorflow as tf\n",
    "from tensorflow.keras.layers import Add , Layer , Input, Dense, Dropout,Embedding, LayerNormalization, MultiHeadAttention, Conv1D\n",
    "from tensorflow.keras.models import Model\n",
    "from tensorflow.keras.optimizers import Adam\n",
    "\n",
    "class SequenceEncoder(Layer):\n",
    "    def __init__(self ,sequence_length, features):\n",
    "        super(SequenceEncoder, self).__init__()\n",
    "        self.sequence_length = sequence_length\n",
    "        self.features = features\n",
    "        self.embedding_layer = Embedding(input_dim = self.sequence_length, output_dim = self.features)\n",
    "    def call(self , x ,training = True):\n",
    "        embedding_input = tf.range(0, limit = self.sequence_length, delta =1 )\n",
    "        embedding_output = self.embedding_layer(embedding_input)\n",
    "        x = x + embedding_output\n",
    "        print(x.shape)\n",
    "        return x\n",
    "\n",
    "sample_input = tf.random.uniform(shape = (1, 20, 51))\n",
    "sequence_encoder = SequenceEncoder(sequence_length = 20, features = 51)\n",
    "sampleoutput = sequence_encoder(sample_input)\n",
    "print(sampleoutput.shape)"
   ]
  },
  {
   "cell_type": "code",
   "execution_count": 106,
   "metadata": {},
   "outputs": [
    {
     "name": "stdout",
     "output_type": "stream",
     "text": [
      "(1, 20, 51)\n",
      "(1, 20, 51)\n"
     ]
    }
   ],
   "source": [
    "class TransformerEncoder(Layer):\n",
    "    # key_dims is same as of the Hidden Units\n",
    "    def __init__(self , H_HEADS , features):\n",
    "        super().__init__()\n",
    "\n",
    "        self.norm = LayerNormalization()\n",
    "        # Key dimensions determine how many feature each frame/patche will be\n",
    "        # This can be understand by the working of MultiHead Attention Layer  \n",
    "        self.multi_head_attention = MultiHeadAttention(num_heads=H_HEADS , key_dim=features) \n",
    "        self.dense_1 = Dense(units=features , activation=tf.nn.gelu)\n",
    "        self.dense_2 = Dense(units=features , activation=tf.nn.gelu)\n",
    "\n",
    "    def call(self , input ,  training = True):\n",
    "        # --------- This all logic is from the official tranformer paper ------------  #\n",
    "        x = self.norm(input)\n",
    "        x = self.multi_head_attention(x , x)  # We have to place the query adn the values \n",
    "        x_1 = Add()([input , x])\n",
    "        x_2 = self.norm(x_1)\n",
    "        x_2 = self.dense_1(x_2)\n",
    "        x_2 = self.dense_2(x_2)\n",
    "        output = Add()([x_1 , x_2])\n",
    "        print(output.shape)\n",
    "        return output\n",
    "\n",
    "\n",
    "sample_input = tf.random.uniform(shape = (1, 20, 51))\n",
    "transformer_encoder = TransformerEncoder(H_HEADS = 20, features = 51)\n",
    "sampleoutput = transformer_encoder(sample_input)\n",
    "print(sampleoutput.shape)"
   ]
  },
  {
   "cell_type": "code",
   "execution_count": 107,
   "metadata": {},
   "outputs": [
    {
     "name": "stdout",
     "output_type": "stream",
     "text": [
      "(None, 40, 51)\n",
      "(None, 40, 51)\n",
      "(None, 40, 51)\n",
      "(None, 201)\n",
      "Model: \"Vision_Transformer\"\n",
      "_________________________________________________________________\n",
      " Layer (type)                Output Shape              Param #   \n",
      "=================================================================\n",
      " sequence_encoder_27 (Sequen  multiple                 2040      \n",
      " ceEncoder)                                                      \n",
      "                                                                 \n",
      " transformer_encoder_33 (Tra  multiple                 26571     \n",
      " nsformerEncoder)                                                \n",
      "                                                                 \n",
      " transformer_encoder_34 (Tra  multiple                 26571     \n",
      " nsformerEncoder)                                                \n",
      "                                                                 \n",
      " dense_115 (Dense)           multiple                  104091    \n",
      "                                                                 \n",
      " dense_116 (Dense)           multiple                  2652      \n",
      "                                                                 \n",
      " dense_117 (Dense)           multiple                  10452     \n",
      "                                                                 \n",
      "=================================================================\n",
      "Total params: 172,377\n",
      "Trainable params: 172,377\n",
      "Non-trainable params: 0\n",
      "_________________________________________________________________\n"
     ]
    }
   ],
   "source": [
    "\n",
    "# Define the Visual Transformer model\n",
    "class VitModel(Model):\n",
    "    def __init__(self , N_Trans_Encoder  , sequence_length  , feature , N_HEADS ,N_CLASSES): \n",
    "        super(VitModel , self).__init__(name = \"Vision_Transformer\")\n",
    "        self.tranformer_layers = N_Trans_Encoder\n",
    "        self.sequence_encoder = SequenceEncoder(sequence_length , feature)\n",
    "        self.transformer_encoder = [TransformerEncoder(N_HEADS , feature) for _ in range(N_Trans_Encoder) ]\n",
    "        self.dense_1 = Dense(units=feature , activation=tf.nn.gelu)\n",
    "        self.dense_2 = Dense(units=feature , activation=tf.nn.gelu)\n",
    "        self.dense_3 = Dense(units=N_CLASSES , activation='softmax')\n",
    "    def call(self , x , training = True):\n",
    "        x = self.sequence_encoder(x)\n",
    "        for i in range(self.tranformer_layers):\n",
    "            x = self.transformer_encoder[i](x)\n",
    "        x = Flatten()(x)\n",
    "        x = self.dense_1(x)\n",
    "        x = self.dense_2(x)\n",
    "        x = self.dense_3(x)\n",
    "        print(x.shape)\n",
    "        return x\n",
    "vit_model =  VitModel(N_Trans_Encoder = 2 ,sequence_length= SEQUENCE_LENGTH , feature = FEATURES , N_HEADS = 2 , N_CLASSES = num_classes)\n",
    "# input_of_model = Input(shape=(SEQUENCE_LENGTH , FEATURES))\n",
    "# output_of_model = vit_model(input_of_model)\n",
    "\n",
    "vit_model.compile(optimizer='adam' , loss='sparse_categorical_crossentropy' , metrics=['accuracy'])\n",
    "vit_model.build(input_shape=(None, SEQUENCE_LENGTH, FEATURES))  # Build the model\n",
    "vit_model.summary()"
   ]
  },
  {
   "cell_type": "code",
   "execution_count": 108,
   "metadata": {},
   "outputs": [
    {
     "name": "stdout",
     "output_type": "stream",
     "text": [
      "Epoch 1/3\n",
      "(None, 40, 51)\n",
      "(None, 40, 51)\n",
      "(None, 40, 51)\n",
      "(None, 201)\n",
      "(None, 40, 51)\n",
      "(None, 40, 51)\n",
      "(None, 40, 51)\n",
      "(None, 201)\n",
      "6780/6780 [==============================] - 128s 18ms/step - loss: 4.7066 - accuracy: 0.0658\n",
      "Epoch 2/3\n",
      "6780/6780 [==============================] - 139s 20ms/step - loss: 4.5561 - accuracy: 0.0673\n",
      "Epoch 3/3\n",
      "6780/6780 [==============================] - 118s 17ms/step - loss: 4.5535 - accuracy: 0.0674\n"
     ]
    },
    {
     "data": {
      "text/plain": [
       "<keras.callbacks.History at 0x1a7860e7d90>"
      ]
     },
     "execution_count": 108,
     "metadata": {},
     "output_type": "execute_result"
    }
   ],
   "source": [
    "# class CustomCallback(tf.keras.callbacks.Callback):\n",
    "#     def on_batch_end(self, batch, logs=None):\n",
    "#         print(\"Batch End: Available keys in logs =\", list(logs.keys()))\n",
    "\n",
    "vit_model.fit(train_dataset, epochs=3, steps_per_epoch=steps_per_epoch, verbose=1)\n"
   ]
  },
  {
   "cell_type": "code",
   "execution_count": null,
   "metadata": {},
   "outputs": [],
   "source": [
    "\n",
    "# Define input shape and number of classes\n",
    "input_shape = (40 , 51)\n",
    "model_update = update_visual_transformer(input_shape, 4)\n",
    "model_update.summary()"
   ]
  },
  {
   "cell_type": "code",
   "execution_count": 18,
   "metadata": {},
   "outputs": [
    {
     "name": "stdout",
     "output_type": "stream",
     "text": [
      "21\n"
     ]
    }
   ],
   "source": [
    "print(num_classes)"
   ]
  },
  {
   "cell_type": "code",
   "execution_count": 20,
   "metadata": {},
   "outputs": [],
   "source": [
    "def scheduler(epoch, lr):\n",
    "  if epoch < 5:\n",
    "    return lr\n",
    "  else:\n",
    "    return lr * tf.math.exp(0.1)\n",
    "\n",
    "callback = tf.keras.callbacks.LearningRateScheduler(scheduler)\n"
   ]
  },
  {
   "cell_type": "code",
   "execution_count": 21,
   "metadata": {},
   "outputs": [],
   "source": [
    "checkpoint_filepath = 'gait3d_simple_lstm_model_checkpoint/checkpoints'\n",
    "model_checkpoint_callback = tf.keras.callbacks.ModelCheckpoint(\n",
    "    filepath=checkpoint_filepath,\n",
    "    save_weights_only=True,\n",
    "    monitor='accuracy',\n",
    "    mode='max',\n",
    "    save_best_only=True)"
   ]
  },
  {
   "cell_type": "code",
   "execution_count": 18,
   "metadata": {},
   "outputs": [
    {
     "name": "stdout",
     "output_type": "stream",
     "text": [
      "60572\n"
     ]
    }
   ],
   "source": [
    "print(len(sequences))\n",
    "# We have taken the 2000 sequences from the total of 2291652 sequences just to see if the model is training or not.\n"
   ]
  },
  {
   "cell_type": "code",
   "execution_count": 23,
   "metadata": {},
   "outputs": [
    {
     "name": "stdout",
     "output_type": "stream",
     "text": [
      "Epoch 1/100\n"
     ]
    },
    {
     "name": "stdout",
     "output_type": "stream",
     "text": [
      "582/582 [==============================] - 12s 18ms/step - loss: 1.7788 - accuracy: 0.4506\n",
      "Epoch 2/100\n",
      "582/582 [==============================] - 10s 18ms/step - loss: 1.6134 - accuracy: 0.4980\n",
      "Epoch 3/100\n",
      "582/582 [==============================] - 11s 19ms/step - loss: 1.4887 - accuracy: 0.5278\n",
      "Epoch 4/100\n",
      "582/582 [==============================] - 13s 22ms/step - loss: 1.3672 - accuracy: 0.5674\n",
      "Epoch 5/100\n",
      "582/582 [==============================] - 11s 18ms/step - loss: 1.2814 - accuracy: 0.5895\n",
      "Epoch 6/100\n",
      "582/582 [==============================] - 10s 17ms/step - loss: 1.1990 - accuracy: 0.6107\n",
      "Epoch 7/100\n",
      "582/582 [==============================] - 10s 17ms/step - loss: 1.1277 - accuracy: 0.6303\n",
      "Epoch 8/100\n",
      "582/582 [==============================] - 9s 16ms/step - loss: 1.0666 - accuracy: 0.6517\n",
      "Epoch 9/100\n",
      "582/582 [==============================] - 9s 16ms/step - loss: 1.0089 - accuracy: 0.6687\n",
      "Epoch 10/100\n",
      "582/582 [==============================] - 9s 16ms/step - loss: 0.9466 - accuracy: 0.6911\n",
      "Epoch 11/100\n",
      "582/582 [==============================] - 10s 17ms/step - loss: 0.9207 - accuracy: 0.6979\n",
      "Epoch 12/100\n",
      "582/582 [==============================] - 10s 17ms/step - loss: 0.8202 - accuracy: 0.7301\n",
      "Epoch 13/100\n",
      "582/582 [==============================] - 10s 16ms/step - loss: 0.8007 - accuracy: 0.7357\n",
      "Epoch 14/100\n",
      "582/582 [==============================] - 9s 16ms/step - loss: 0.7071 - accuracy: 0.7681\n",
      "Epoch 15/100\n",
      "582/582 [==============================] - 9s 16ms/step - loss: 0.7096 - accuracy: 0.7635\n",
      "Epoch 16/100\n",
      "582/582 [==============================] - 6s 11ms/step - loss: 0.7087 - accuracy: 0.7633\n",
      "Epoch 17/100\n",
      "582/582 [==============================] - 6s 10ms/step - loss: 0.6296 - accuracy: 0.7887\n",
      "Epoch 18/100\n",
      "582/582 [==============================] - 6s 10ms/step - loss: 0.6064 - accuracy: 0.7964\n",
      "Epoch 19/100\n",
      "582/582 [==============================] - 6s 10ms/step - loss: 0.5868 - accuracy: 0.8047\n",
      "Epoch 20/100\n",
      "582/582 [==============================] - 6s 10ms/step - loss: 0.5725 - accuracy: 0.8092\n",
      "Epoch 21/100\n",
      "582/582 [==============================] - 6s 10ms/step - loss: 0.5433 - accuracy: 0.8185\n",
      "Epoch 22/100\n",
      "582/582 [==============================] - 6s 10ms/step - loss: 0.5121 - accuracy: 0.8260\n",
      "Epoch 23/100\n",
      "582/582 [==============================] - 6s 10ms/step - loss: 0.5143 - accuracy: 0.8266\n",
      "Epoch 24/100\n",
      "582/582 [==============================] - 6s 10ms/step - loss: 0.4892 - accuracy: 0.8368\n",
      "Epoch 25/100\n",
      "582/582 [==============================] - 6s 10ms/step - loss: 0.4907 - accuracy: 0.8354\n",
      "Epoch 26/100\n",
      "582/582 [==============================] - 6s 10ms/step - loss: 0.4385 - accuracy: 0.8556\n",
      "Epoch 27/100\n",
      "582/582 [==============================] - 6s 10ms/step - loss: 0.4271 - accuracy: 0.8573\n",
      "Epoch 28/100\n",
      "582/582 [==============================] - 6s 10ms/step - loss: 0.4371 - accuracy: 0.8544\n",
      "Epoch 29/100\n",
      "582/582 [==============================] - 6s 10ms/step - loss: 0.4122 - accuracy: 0.8609\n",
      "Epoch 30/100\n",
      "582/582 [==============================] - 6s 10ms/step - loss: 0.4016 - accuracy: 0.8664\n",
      "Epoch 31/100\n",
      "582/582 [==============================] - 6s 10ms/step - loss: 0.3941 - accuracy: 0.8662\n",
      "Epoch 32/100\n",
      "582/582 [==============================] - 6s 10ms/step - loss: 0.3717 - accuracy: 0.8783\n",
      "Epoch 33/100\n",
      "582/582 [==============================] - 6s 10ms/step - loss: 0.3476 - accuracy: 0.8860\n",
      "Epoch 34/100\n",
      "582/582 [==============================] - 6s 10ms/step - loss: 0.3851 - accuracy: 0.8736\n",
      "Epoch 35/100\n",
      "582/582 [==============================] - 6s 10ms/step - loss: 0.3314 - accuracy: 0.8897\n",
      "Epoch 36/100\n",
      "582/582 [==============================] - 6s 10ms/step - loss: 0.3436 - accuracy: 0.8883\n",
      "Epoch 37/100\n",
      "582/582 [==============================] - 6s 10ms/step - loss: 0.3452 - accuracy: 0.8857\n",
      "Epoch 38/100\n",
      "582/582 [==============================] - 6s 10ms/step - loss: 0.3022 - accuracy: 0.8988\n",
      "Epoch 39/100\n",
      "582/582 [==============================] - 6s 10ms/step - loss: 0.3212 - accuracy: 0.8932\n",
      "Epoch 40/100\n",
      "582/582 [==============================] - 6s 10ms/step - loss: 0.3036 - accuracy: 0.9004\n",
      "Epoch 41/100\n",
      "582/582 [==============================] - 6s 10ms/step - loss: 0.2883 - accuracy: 0.9043\n",
      "Epoch 42/100\n",
      "582/582 [==============================] - 6s 10ms/step - loss: 0.3093 - accuracy: 0.8980\n",
      "Epoch 43/100\n",
      "582/582 [==============================] - 6s 11ms/step - loss: 0.3125 - accuracy: 0.8981\n",
      "Epoch 44/100\n",
      "582/582 [==============================] - 7s 11ms/step - loss: 0.2774 - accuracy: 0.9104\n",
      "Epoch 45/100\n",
      "582/582 [==============================] - 7s 11ms/step - loss: 0.2624 - accuracy: 0.9141\n",
      "Epoch 46/100\n",
      "582/582 [==============================] - 7s 11ms/step - loss: 0.2908 - accuracy: 0.9068\n",
      "Epoch 47/100\n",
      "582/582 [==============================] - 7s 12ms/step - loss: 0.2717 - accuracy: 0.9115\n",
      "Epoch 48/100\n",
      "582/582 [==============================] - 7s 12ms/step - loss: 0.2619 - accuracy: 0.9135\n",
      "Epoch 49/100\n",
      "582/582 [==============================] - 7s 12ms/step - loss: 0.2632 - accuracy: 0.9167\n",
      "Epoch 50/100\n",
      "582/582 [==============================] - 7s 12ms/step - loss: 0.3041 - accuracy: 0.9020\n",
      "Epoch 51/100\n",
      "582/582 [==============================] - 7s 12ms/step - loss: 0.2427 - accuracy: 0.9223\n",
      "Epoch 52/100\n",
      "582/582 [==============================] - 7s 11ms/step - loss: 0.2670 - accuracy: 0.9143\n",
      "Epoch 53/100\n",
      "582/582 [==============================] - 6s 11ms/step - loss: 0.2555 - accuracy: 0.9162\n",
      "Epoch 54/100\n",
      "582/582 [==============================] - 6s 10ms/step - loss: 0.2467 - accuracy: 0.9189\n",
      "Epoch 55/100\n",
      "582/582 [==============================] - 7s 11ms/step - loss: 0.2401 - accuracy: 0.9222\n",
      "Epoch 56/100\n",
      "582/582 [==============================] - 7s 11ms/step - loss: 0.2349 - accuracy: 0.9236\n",
      "Epoch 57/100\n",
      "582/582 [==============================] - 6s 11ms/step - loss: 0.2664 - accuracy: 0.9136\n",
      "Epoch 58/100\n",
      "582/582 [==============================] - 6s 10ms/step - loss: 0.2281 - accuracy: 0.9272\n",
      "Epoch 59/100\n",
      "582/582 [==============================] - 6s 11ms/step - loss: 0.2208 - accuracy: 0.9295\n",
      "Epoch 60/100\n",
      "582/582 [==============================] - 6s 10ms/step - loss: 0.2258 - accuracy: 0.9260\n",
      "Epoch 61/100\n",
      "582/582 [==============================] - 6s 10ms/step - loss: 0.2082 - accuracy: 0.9329\n",
      "Epoch 62/100\n",
      "582/582 [==============================] - 6s 10ms/step - loss: 0.2450 - accuracy: 0.9231\n",
      "Epoch 63/100\n",
      "582/582 [==============================] - 6s 10ms/step - loss: 0.2224 - accuracy: 0.9303\n",
      "Epoch 64/100\n",
      "582/582 [==============================] - 6s 10ms/step - loss: 0.2149 - accuracy: 0.9289\n",
      "Epoch 65/100\n",
      "582/582 [==============================] - 6s 10ms/step - loss: 0.2187 - accuracy: 0.9321\n",
      "Epoch 66/100\n",
      "582/582 [==============================] - 6s 10ms/step - loss: 0.2266 - accuracy: 0.9283\n",
      "Epoch 67/100\n",
      "582/582 [==============================] - 6s 10ms/step - loss: 0.2107 - accuracy: 0.9317\n",
      "Epoch 68/100\n",
      "582/582 [==============================] - 6s 10ms/step - loss: 0.2002 - accuracy: 0.9359\n",
      "Epoch 69/100\n",
      "582/582 [==============================] - 6s 10ms/step - loss: 0.2105 - accuracy: 0.9315\n",
      "Epoch 70/100\n",
      "582/582 [==============================] - 6s 10ms/step - loss: 0.2345 - accuracy: 0.9283\n",
      "Epoch 71/100\n",
      "582/582 [==============================] - 6s 10ms/step - loss: 0.1915 - accuracy: 0.9405\n",
      "Epoch 72/100\n",
      "582/582 [==============================] - 6s 10ms/step - loss: 0.1756 - accuracy: 0.9447\n",
      "Epoch 73/100\n",
      "582/582 [==============================] - 6s 10ms/step - loss: 0.2235 - accuracy: 0.9315\n",
      "Epoch 74/100\n",
      "582/582 [==============================] - 6s 11ms/step - loss: 0.2064 - accuracy: 0.9357\n",
      "Epoch 75/100\n",
      "582/582 [==============================] - 6s 10ms/step - loss: 0.2218 - accuracy: 0.9300\n",
      "Epoch 76/100\n",
      "582/582 [==============================] - 6s 10ms/step - loss: 0.1971 - accuracy: 0.9391\n",
      "Epoch 77/100\n",
      "582/582 [==============================] - 6s 10ms/step - loss: 0.1717 - accuracy: 0.9456\n",
      "Epoch 78/100\n",
      "582/582 [==============================] - 6s 10ms/step - loss: 0.1833 - accuracy: 0.9429\n",
      "Epoch 79/100\n",
      "582/582 [==============================] - 6s 10ms/step - loss: 0.1926 - accuracy: 0.9389\n",
      "Epoch 80/100\n",
      "582/582 [==============================] - 6s 10ms/step - loss: 0.1745 - accuracy: 0.9473\n",
      "Epoch 81/100\n",
      "582/582 [==============================] - 6s 10ms/step - loss: 0.1762 - accuracy: 0.9445\n",
      "Epoch 82/100\n",
      "582/582 [==============================] - 6s 10ms/step - loss: 0.1845 - accuracy: 0.9434\n",
      "Epoch 83/100\n",
      "582/582 [==============================] - 6s 10ms/step - loss: 0.2123 - accuracy: 0.9329\n",
      "Epoch 84/100\n",
      "582/582 [==============================] - 6s 10ms/step - loss: 0.1797 - accuracy: 0.9417\n",
      "Epoch 85/100\n",
      "582/582 [==============================] - 6s 10ms/step - loss: 0.1759 - accuracy: 0.9442\n",
      "Epoch 86/100\n",
      "582/582 [==============================] - 6s 10ms/step - loss: 0.1707 - accuracy: 0.9449\n",
      "Epoch 87/100\n",
      "582/582 [==============================] - 6s 10ms/step - loss: 0.1926 - accuracy: 0.9425\n",
      "Epoch 88/100\n",
      "582/582 [==============================] - 6s 10ms/step - loss: 0.1876 - accuracy: 0.9423\n",
      "Epoch 89/100\n",
      "582/582 [==============================] - 6s 10ms/step - loss: 0.1635 - accuracy: 0.9490\n",
      "Epoch 90/100\n",
      "582/582 [==============================] - 6s 10ms/step - loss: 0.1834 - accuracy: 0.9441\n",
      "Epoch 91/100\n",
      "582/582 [==============================] - 6s 11ms/step - loss: 0.1443 - accuracy: 0.9548\n",
      "Epoch 92/100\n",
      "582/582 [==============================] - 6s 11ms/step - loss: 0.1732 - accuracy: 0.9455\n",
      "Epoch 93/100\n",
      "582/582 [==============================] - 7s 11ms/step - loss: 0.1484 - accuracy: 0.9522\n",
      "Epoch 94/100\n",
      "582/582 [==============================] - 6s 11ms/step - loss: 0.1946 - accuracy: 0.9413\n",
      "Epoch 95/100\n",
      "582/582 [==============================] - 6s 11ms/step - loss: 0.1620 - accuracy: 0.9480\n",
      "Epoch 96/100\n",
      "582/582 [==============================] - 6s 11ms/step - loss: 0.1617 - accuracy: 0.9487\n",
      "Epoch 97/100\n",
      "582/582 [==============================] - 6s 10ms/step - loss: 0.1404 - accuracy: 0.9560\n",
      "Epoch 98/100\n",
      "582/582 [==============================] - 6s 11ms/step - loss: 0.1755 - accuracy: 0.9493\n",
      "Epoch 99/100\n",
      "582/582 [==============================] - 6s 11ms/step - loss: 0.1530 - accuracy: 0.9532\n",
      "Epoch 100/100\n",
      "582/582 [==============================] - 6s 11ms/step - loss: 0.1397 - accuracy: 0.9556\n"
     ]
    }
   ],
   "source": [
    "    \n",
    "steps_per_epoch = len(train_sequences) // batch_size\n",
    "# steps_per_epoch = 362\n",
    "num_epochs = 100  # You can adjust this value based on your training requirements\n",
    "# history = model.fit(train_dataset ,steps_per_epoch=steps_per_epoch , validation_data=validation_dataset ,  epochs=num_epochs, verbose = 1)\n",
    "history = model.fit( train_dataset  , steps_per_epoch=steps_per_epoch,  epochs=num_epochs, verbose = 1 )"
   ]
  },
  {
   "cell_type": "code",
   "execution_count": 26,
   "metadata": {},
   "outputs": [
    {
     "name": "stdout",
     "output_type": "stream",
     "text": [
      "  18997/Unknown - 110s 6ms/step - loss: 0.3138 - accuracy: 0.9113"
     ]
    },
    {
     "ename": "KeyboardInterrupt",
     "evalue": "",
     "output_type": "error",
     "traceback": [
      "\u001b[1;31m---------------------------------------------------------------------------\u001b[0m",
      "\u001b[1;31mKeyboardInterrupt\u001b[0m                         Traceback (most recent call last)",
      "Cell \u001b[1;32mIn[26], line 1\u001b[0m\n\u001b[1;32m----> 1\u001b[0m model\u001b[39m.\u001b[39;49mevaluate(validation_dataset)\n",
      "File \u001b[1;32mc:\\Users\\Pc\\miniconda3\\envs\\tf\\lib\\site-packages\\keras\\utils\\traceback_utils.py:65\u001b[0m, in \u001b[0;36mfilter_traceback.<locals>.error_handler\u001b[1;34m(*args, **kwargs)\u001b[0m\n\u001b[0;32m     63\u001b[0m filtered_tb \u001b[39m=\u001b[39m \u001b[39mNone\u001b[39;00m\n\u001b[0;32m     64\u001b[0m \u001b[39mtry\u001b[39;00m:\n\u001b[1;32m---> 65\u001b[0m     \u001b[39mreturn\u001b[39;00m fn(\u001b[39m*\u001b[39margs, \u001b[39m*\u001b[39m\u001b[39m*\u001b[39mkwargs)\n\u001b[0;32m     66\u001b[0m \u001b[39mexcept\u001b[39;00m \u001b[39mException\u001b[39;00m \u001b[39mas\u001b[39;00m e:\n\u001b[0;32m     67\u001b[0m     filtered_tb \u001b[39m=\u001b[39m _process_traceback_frames(e\u001b[39m.\u001b[39m__traceback__)\n",
      "File \u001b[1;32mc:\\Users\\Pc\\miniconda3\\envs\\tf\\lib\\site-packages\\keras\\engine\\training.py:1947\u001b[0m, in \u001b[0;36mModel.evaluate\u001b[1;34m(self, x, y, batch_size, verbose, sample_weight, steps, callbacks, max_queue_size, workers, use_multiprocessing, return_dict, **kwargs)\u001b[0m\n\u001b[0;32m   1943\u001b[0m \u001b[39mwith\u001b[39;00m tf\u001b[39m.\u001b[39mprofiler\u001b[39m.\u001b[39mexperimental\u001b[39m.\u001b[39mTrace(\n\u001b[0;32m   1944\u001b[0m     \u001b[39m\"\u001b[39m\u001b[39mtest\u001b[39m\u001b[39m\"\u001b[39m, step_num\u001b[39m=\u001b[39mstep, _r\u001b[39m=\u001b[39m\u001b[39m1\u001b[39m\n\u001b[0;32m   1945\u001b[0m ):\n\u001b[0;32m   1946\u001b[0m     callbacks\u001b[39m.\u001b[39mon_test_batch_begin(step)\n\u001b[1;32m-> 1947\u001b[0m     tmp_logs \u001b[39m=\u001b[39m \u001b[39mself\u001b[39;49m\u001b[39m.\u001b[39;49mtest_function(iterator)\n\u001b[0;32m   1948\u001b[0m     \u001b[39mif\u001b[39;00m data_handler\u001b[39m.\u001b[39mshould_sync:\n\u001b[0;32m   1949\u001b[0m         context\u001b[39m.\u001b[39masync_wait()\n",
      "File \u001b[1;32mc:\\Users\\Pc\\miniconda3\\envs\\tf\\lib\\site-packages\\tensorflow\\python\\util\\traceback_utils.py:150\u001b[0m, in \u001b[0;36mfilter_traceback.<locals>.error_handler\u001b[1;34m(*args, **kwargs)\u001b[0m\n\u001b[0;32m    148\u001b[0m filtered_tb \u001b[39m=\u001b[39m \u001b[39mNone\u001b[39;00m\n\u001b[0;32m    149\u001b[0m \u001b[39mtry\u001b[39;00m:\n\u001b[1;32m--> 150\u001b[0m   \u001b[39mreturn\u001b[39;00m fn(\u001b[39m*\u001b[39margs, \u001b[39m*\u001b[39m\u001b[39m*\u001b[39mkwargs)\n\u001b[0;32m    151\u001b[0m \u001b[39mexcept\u001b[39;00m \u001b[39mException\u001b[39;00m \u001b[39mas\u001b[39;00m e:\n\u001b[0;32m    152\u001b[0m   filtered_tb \u001b[39m=\u001b[39m _process_traceback_frames(e\u001b[39m.\u001b[39m__traceback__)\n",
      "File \u001b[1;32mc:\\Users\\Pc\\miniconda3\\envs\\tf\\lib\\site-packages\\tensorflow\\python\\eager\\def_function.py:915\u001b[0m, in \u001b[0;36mFunction.__call__\u001b[1;34m(self, *args, **kwds)\u001b[0m\n\u001b[0;32m    912\u001b[0m compiler \u001b[39m=\u001b[39m \u001b[39m\"\u001b[39m\u001b[39mxla\u001b[39m\u001b[39m\"\u001b[39m \u001b[39mif\u001b[39;00m \u001b[39mself\u001b[39m\u001b[39m.\u001b[39m_jit_compile \u001b[39melse\u001b[39;00m \u001b[39m\"\u001b[39m\u001b[39mnonXla\u001b[39m\u001b[39m\"\u001b[39m\n\u001b[0;32m    914\u001b[0m \u001b[39mwith\u001b[39;00m OptionalXlaContext(\u001b[39mself\u001b[39m\u001b[39m.\u001b[39m_jit_compile):\n\u001b[1;32m--> 915\u001b[0m   result \u001b[39m=\u001b[39m \u001b[39mself\u001b[39m\u001b[39m.\u001b[39m_call(\u001b[39m*\u001b[39margs, \u001b[39m*\u001b[39m\u001b[39m*\u001b[39mkwds)\n\u001b[0;32m    917\u001b[0m new_tracing_count \u001b[39m=\u001b[39m \u001b[39mself\u001b[39m\u001b[39m.\u001b[39mexperimental_get_tracing_count()\n\u001b[0;32m    918\u001b[0m without_tracing \u001b[39m=\u001b[39m (tracing_count \u001b[39m==\u001b[39m new_tracing_count)\n",
      "File \u001b[1;32mc:\\Users\\Pc\\miniconda3\\envs\\tf\\lib\\site-packages\\tensorflow\\python\\eager\\def_function.py:954\u001b[0m, in \u001b[0;36mFunction._call\u001b[1;34m(self, *args, **kwds)\u001b[0m\n\u001b[0;32m    951\u001b[0m \u001b[39mself\u001b[39m\u001b[39m.\u001b[39m_lock\u001b[39m.\u001b[39mrelease()\n\u001b[0;32m    952\u001b[0m \u001b[39m# In this case we have not created variables on the first call. So we can\u001b[39;00m\n\u001b[0;32m    953\u001b[0m \u001b[39m# run the first trace but we should fail if variables are created.\u001b[39;00m\n\u001b[1;32m--> 954\u001b[0m results \u001b[39m=\u001b[39m \u001b[39mself\u001b[39m\u001b[39m.\u001b[39m_stateful_fn(\u001b[39m*\u001b[39margs, \u001b[39m*\u001b[39m\u001b[39m*\u001b[39mkwds)\n\u001b[0;32m    955\u001b[0m \u001b[39mif\u001b[39;00m \u001b[39mself\u001b[39m\u001b[39m.\u001b[39m_created_variables \u001b[39mand\u001b[39;00m \u001b[39mnot\u001b[39;00m ALLOW_DYNAMIC_VARIABLE_CREATION:\n\u001b[0;32m    956\u001b[0m   \u001b[39mraise\u001b[39;00m \u001b[39mValueError\u001b[39;00m(\u001b[39m\"\u001b[39m\u001b[39mCreating variables on a non-first call to a function\u001b[39m\u001b[39m\"\u001b[39m\n\u001b[0;32m    957\u001b[0m                    \u001b[39m\"\u001b[39m\u001b[39m decorated with tf.function.\u001b[39m\u001b[39m\"\u001b[39m)\n",
      "File \u001b[1;32mc:\\Users\\Pc\\miniconda3\\envs\\tf\\lib\\site-packages\\tensorflow\\python\\eager\\function.py:2496\u001b[0m, in \u001b[0;36mFunction.__call__\u001b[1;34m(self, *args, **kwargs)\u001b[0m\n\u001b[0;32m   2493\u001b[0m \u001b[39mwith\u001b[39;00m \u001b[39mself\u001b[39m\u001b[39m.\u001b[39m_lock:\n\u001b[0;32m   2494\u001b[0m   (graph_function,\n\u001b[0;32m   2495\u001b[0m    filtered_flat_args) \u001b[39m=\u001b[39m \u001b[39mself\u001b[39m\u001b[39m.\u001b[39m_maybe_define_function(args, kwargs)\n\u001b[1;32m-> 2496\u001b[0m \u001b[39mreturn\u001b[39;00m graph_function\u001b[39m.\u001b[39;49m_call_flat(\n\u001b[0;32m   2497\u001b[0m     filtered_flat_args, captured_inputs\u001b[39m=\u001b[39;49mgraph_function\u001b[39m.\u001b[39;49mcaptured_inputs)\n",
      "File \u001b[1;32mc:\\Users\\Pc\\miniconda3\\envs\\tf\\lib\\site-packages\\tensorflow\\python\\eager\\function.py:1862\u001b[0m, in \u001b[0;36mConcreteFunction._call_flat\u001b[1;34m(self, args, captured_inputs, cancellation_manager)\u001b[0m\n\u001b[0;32m   1858\u001b[0m possible_gradient_type \u001b[39m=\u001b[39m gradients_util\u001b[39m.\u001b[39mPossibleTapeGradientTypes(args)\n\u001b[0;32m   1859\u001b[0m \u001b[39mif\u001b[39;00m (possible_gradient_type \u001b[39m==\u001b[39m gradients_util\u001b[39m.\u001b[39mPOSSIBLE_GRADIENT_TYPES_NONE\n\u001b[0;32m   1860\u001b[0m     \u001b[39mand\u001b[39;00m executing_eagerly):\n\u001b[0;32m   1861\u001b[0m   \u001b[39m# No tape is watching; skip to running the function.\u001b[39;00m\n\u001b[1;32m-> 1862\u001b[0m   \u001b[39mreturn\u001b[39;00m \u001b[39mself\u001b[39m\u001b[39m.\u001b[39m_build_call_outputs(\u001b[39mself\u001b[39;49m\u001b[39m.\u001b[39;49m_inference_function\u001b[39m.\u001b[39;49mcall(\n\u001b[0;32m   1863\u001b[0m       ctx, args, cancellation_manager\u001b[39m=\u001b[39;49mcancellation_manager))\n\u001b[0;32m   1864\u001b[0m forward_backward \u001b[39m=\u001b[39m \u001b[39mself\u001b[39m\u001b[39m.\u001b[39m_select_forward_and_backward_functions(\n\u001b[0;32m   1865\u001b[0m     args,\n\u001b[0;32m   1866\u001b[0m     possible_gradient_type,\n\u001b[0;32m   1867\u001b[0m     executing_eagerly)\n\u001b[0;32m   1868\u001b[0m forward_function, args_with_tangents \u001b[39m=\u001b[39m forward_backward\u001b[39m.\u001b[39mforward()\n",
      "File \u001b[1;32mc:\\Users\\Pc\\miniconda3\\envs\\tf\\lib\\site-packages\\tensorflow\\python\\eager\\function.py:499\u001b[0m, in \u001b[0;36m_EagerDefinedFunction.call\u001b[1;34m(self, ctx, args, cancellation_manager)\u001b[0m\n\u001b[0;32m    497\u001b[0m \u001b[39mwith\u001b[39;00m _InterpolateFunctionError(\u001b[39mself\u001b[39m):\n\u001b[0;32m    498\u001b[0m   \u001b[39mif\u001b[39;00m cancellation_manager \u001b[39mis\u001b[39;00m \u001b[39mNone\u001b[39;00m:\n\u001b[1;32m--> 499\u001b[0m     outputs \u001b[39m=\u001b[39m execute\u001b[39m.\u001b[39;49mexecute(\n\u001b[0;32m    500\u001b[0m         \u001b[39mstr\u001b[39;49m(\u001b[39mself\u001b[39;49m\u001b[39m.\u001b[39;49msignature\u001b[39m.\u001b[39;49mname),\n\u001b[0;32m    501\u001b[0m         num_outputs\u001b[39m=\u001b[39;49m\u001b[39mself\u001b[39;49m\u001b[39m.\u001b[39;49m_num_outputs,\n\u001b[0;32m    502\u001b[0m         inputs\u001b[39m=\u001b[39;49margs,\n\u001b[0;32m    503\u001b[0m         attrs\u001b[39m=\u001b[39;49mattrs,\n\u001b[0;32m    504\u001b[0m         ctx\u001b[39m=\u001b[39;49mctx)\n\u001b[0;32m    505\u001b[0m   \u001b[39melse\u001b[39;00m:\n\u001b[0;32m    506\u001b[0m     outputs \u001b[39m=\u001b[39m execute\u001b[39m.\u001b[39mexecute_with_cancellation(\n\u001b[0;32m    507\u001b[0m         \u001b[39mstr\u001b[39m(\u001b[39mself\u001b[39m\u001b[39m.\u001b[39msignature\u001b[39m.\u001b[39mname),\n\u001b[0;32m    508\u001b[0m         num_outputs\u001b[39m=\u001b[39m\u001b[39mself\u001b[39m\u001b[39m.\u001b[39m_num_outputs,\n\u001b[1;32m   (...)\u001b[0m\n\u001b[0;32m    511\u001b[0m         ctx\u001b[39m=\u001b[39mctx,\n\u001b[0;32m    512\u001b[0m         cancellation_manager\u001b[39m=\u001b[39mcancellation_manager)\n",
      "File \u001b[1;32mc:\\Users\\Pc\\miniconda3\\envs\\tf\\lib\\site-packages\\tensorflow\\python\\eager\\execute.py:54\u001b[0m, in \u001b[0;36mquick_execute\u001b[1;34m(op_name, num_outputs, inputs, attrs, ctx, name)\u001b[0m\n\u001b[0;32m     52\u001b[0m \u001b[39mtry\u001b[39;00m:\n\u001b[0;32m     53\u001b[0m   ctx\u001b[39m.\u001b[39mensure_initialized()\n\u001b[1;32m---> 54\u001b[0m   tensors \u001b[39m=\u001b[39m pywrap_tfe\u001b[39m.\u001b[39;49mTFE_Py_Execute(ctx\u001b[39m.\u001b[39;49m_handle, device_name, op_name,\n\u001b[0;32m     55\u001b[0m                                       inputs, attrs, num_outputs)\n\u001b[0;32m     56\u001b[0m \u001b[39mexcept\u001b[39;00m core\u001b[39m.\u001b[39m_NotOkStatusException \u001b[39mas\u001b[39;00m e:\n\u001b[0;32m     57\u001b[0m   \u001b[39mif\u001b[39;00m name \u001b[39mis\u001b[39;00m \u001b[39mnot\u001b[39;00m \u001b[39mNone\u001b[39;00m:\n",
      "\u001b[1;31mKeyboardInterrupt\u001b[0m: "
     ]
    }
   ],
   "source": [
    "model.evaluate(validation_dataset)"
   ]
  },
  {
   "cell_type": "code",
   "execution_count": 27,
   "metadata": {},
   "outputs": [
    {
     "data": {
      "image/png": "[encoded data removed]",
      "text/plain": [
       "<Figure size 640x480 with 1 Axes>"
      ]
     },
     "metadata": {},
     "output_type": "display_data"
    }
   ],
   "source": [
    "from matplotlib import pyplot as plt\n",
    "\n",
    "# plt.plot(history.history['accuracy'])\n",
    "plt.plot(history.history['accuracy'])\n",
    "plt.title('accuracy')\n",
    "plt.ylabel('accuracy')\n",
    "plt.xlabel('Epoch')\n",
    "plt.legend(['accuracy'], loc='upper left')\n",
    "\n",
    "plt.show()"
   ]
  },
  {
   "cell_type": "code",
   "execution_count": 28,
   "metadata": {},
   "outputs": [
    {
     "data": {
      "image/png": "[encoded data removed]",
      "text/plain": [
       "<Figure size 640x480 with 1 Axes>"
      ]
     },
     "metadata": {},
     "output_type": "display_data"
    }
   ],
   "source": [
    "from matplotlib import pyplot as plt\n",
    "\n",
    "# plt.plot(history.history['accuracy'])\n",
    "plt.plot(history.history['loss'])\n",
    "plt.title('loss')\n",
    "plt.ylabel('Loss')\n",
    "plt.xlabel('Epoch')\n",
    "plt.legend(['loss'], loc='upper left')\n",
    "\n",
    "plt.show()"
   ]
  },
  {
   "cell_type": "code",
   "execution_count": null,
   "metadata": {},
   "outputs": [
    {
     "name": "stdout",
     "output_type": "stream",
     "text": [
      "Model: \"sequential_2\"\n",
      "_________________________________________________________________\n",
      " Layer (type)                Output Shape              Param #   \n",
      "=================================================================\n",
      " lstm_2 (LSTM)               (None, 40, 64)            29696     \n",
      "                                                                 \n",
      " flatten_2 (Flatten)         (None, 2560)              0         \n",
      "                                                                 \n",
      " dense_2 (Dense)             (None, 45)                115245    \n",
      "                                                                 \n",
      "=================================================================\n",
      "Total params: 144,941\n",
      "Trainable params: 144,941\n",
      "Non-trainable params: 0\n",
      "_________________________________________________________________\n"
     ]
    }
   ],
   "source": [
    "model.summary()"
   ]
  },
  {
   "cell_type": "code",
   "execution_count": null,
   "metadata": {},
   "outputs": [],
   "source": [
    "model.save_weights('csv_file_half_visual_transformer.h5')"
   ]
  },
  {
   "cell_type": "code",
   "execution_count": null,
   "metadata": {},
   "outputs": [],
   "source": [
    "model.load_weights('csv_file_half_combined_conv_lstm_[1000].h5')"
   ]
  },
  {
   "cell_type": "code",
   "execution_count": null,
   "metadata": {},
   "outputs": [
    {
     "data": {
      "image/png": "[encoded data removed]",
      "text/plain": [
       "<Figure size 640x480 with 1 Axes>"
      ]
     },
     "metadata": {},
     "output_type": "display_data"
    }
   ],
   "source": [
    "import matplotlib.pyplot as plt\n",
    "plt.plot(history.history['loss'])\n",
    "# plt.plot(history.history['val_loss'])\n",
    "plt.title('model loss')\n",
    "plt.xlabel('epoch')\n",
    "plt.ylabel('loss')\n",
    "# plt.legend(['train','validation'],loc='upper right')\n",
    "plt.legend(['train'],loc='upper right')\n",
    "plt.show()"
   ]
  },
  {
   "cell_type": "code",
   "execution_count": 35,
   "metadata": {},
   "outputs": [],
   "source": [
    "import pandas as pd\n",
    "\n",
    "def read_csv_extract_rows(csv_file_path):\n",
    "    try:\n",
    "        # Read the entire CSV file\n",
    "        df = pd.read_csv(csv_file_path)\n",
    "\n",
    "        # Extract the data from rows 1 to 30\n",
    "        data = df.iloc[0:40, :]\n",
    "\n",
    "        # Optionally, if you want to store the data as a list of lists\n",
    "        data_list = data.values.tolist()\n",
    "        data = np.transpose(data)\n",
    "        return data, data_list\n",
    "\n",
    "    except FileNotFoundError:\n",
    "        print(f\"File not found: {csv_file_path}\")\n",
    "        return None\n",
    "\n",
    "# Example usage:\n",
    "csv_file_path = \"D:\\\\FYP\\\\Gait3D\\\\csv_files\\\\0081\\\\camid27_videoid3_seq0.csv\"\n",
    "data, data_list = read_csv_extract_rows(csv_file_path)\n"
   ]
  },
  {
   "cell_type": "code",
   "execution_count": 36,
   "metadata": {},
   "outputs": [
    {
     "name": "stdout",
     "output_type": "stream",
     "text": [
      "(1, 51, 40)\n"
     ]
    }
   ],
   "source": [
    "data = tf.expand_dims(data, axis=0)\n",
    "print(data.shape)\n"
   ]
  },
  {
   "cell_type": "code",
   "execution_count": 37,
   "metadata": {},
   "outputs": [
    {
     "name": "stdout",
     "output_type": "stream",
     "text": [
      "0002\n"
     ]
    }
   ],
   "source": [
    "print(class_labels[2])"
   ]
  },
  {
   "cell_type": "code",
   "execution_count": 38,
   "metadata": {},
   "outputs": [
    {
     "name": "stdout",
     "output_type": "stream",
     "text": [
      "1/1 [==============================] - 0s 26ms/step\n",
      "(1, 1000)\n",
      "602\n",
      "0.08776522\n"
     ]
    }
   ],
   "source": [
    "\n",
    "output = model.predict(data)\n",
    "print(output.shape)\n",
    "print(tf.argmax(output , axis=-1).numpy()[0])\n",
    "print(output[0,tf.argmax(output , axis=-1).numpy()[0]])\n"
   ]
  },
  {
   "cell_type": "code",
   "execution_count": 39,
   "metadata": {},
   "outputs": [
    {
     "name": "stdout",
     "output_type": "stream",
     "text": [
      "The predicted class is 0602\n"
     ]
    }
   ],
   "source": [
    "\n",
    "print(f\"The predicted class is {class_labels[(tf.argmax(output , axis=-1)).numpy()[0]]}\")"
   ]
  }
 ],
 "metadata": {
  "kernelspec": {
   "display_name": "tf",
   "language": "python",
   "name": "python3"
  },
  "language_info": {
   "codemirror_mode": {
    "name": "ipython",
    "version": 3
   },
   "file_extension": ".py",
   "mimetype": "text/x-python",
   "name": "python",
   "nbconvert_exporter": "python",
   "pygments_lexer": "ipython3",
   "version": "3.9.16"
  },
  "orig_nbformat": 4
 },
 "nbformat": 4,
 "nbformat_minor": 2
}
